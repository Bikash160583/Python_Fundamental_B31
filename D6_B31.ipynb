{
 "cells": [
  {
   "cell_type": "code",
   "execution_count": null,
   "metadata": {},
   "outputs": [],
   "source": [
    "Introduction to Looping statements"
   ]
  },
  {
   "cell_type": "code",
   "execution_count": 1,
   "metadata": {},
   "outputs": [],
   "source": [
    "Students=['Vijaya','Ghaleb','Vimal','Suresh','keerthi','Sameer']"
   ]
  },
  {
   "cell_type": "code",
   "execution_count": 2,
   "metadata": {},
   "outputs": [
    {
     "name": "stdout",
     "output_type": "stream",
     "text": [
      "['Vijaya', 'Ghaleb', 'Vimal', 'Suresh', 'keerthi', 'Sameer']\n"
     ]
    }
   ],
   "source": [
    "print(Students)"
   ]
  },
  {
   "cell_type": "code",
   "execution_count": 3,
   "metadata": {},
   "outputs": [
    {
     "data": {
      "text/plain": [
       "list"
      ]
     },
     "execution_count": 3,
     "metadata": {},
     "output_type": "execute_result"
    }
   ],
   "source": [
    "type(Students)"
   ]
  },
  {
   "cell_type": "code",
   "execution_count": null,
   "metadata": {},
   "outputs": [],
   "source": [
    "#Requirement:-Appreciate every student available in the list for submitting the work daily"
   ]
  },
  {
   "cell_type": "code",
   "execution_count": 4,
   "metadata": {},
   "outputs": [
    {
     "name": "stdout",
     "output_type": "stream",
     "text": [
      "Keep up the good work {'Vijaya'}\n"
     ]
    }
   ],
   "source": [
    "print(f\"Keep up the good work\",{Students[0].title()})"
   ]
  },
  {
   "cell_type": "code",
   "execution_count": 5,
   "metadata": {},
   "outputs": [
    {
     "name": "stdout",
     "output_type": "stream",
     "text": [
      "Keep up the good work,Vijaya\n"
     ]
    }
   ],
   "source": [
    "print(f\"Keep up the good work,{Students[0].title()}\")"
   ]
  },
  {
   "cell_type": "code",
   "execution_count": 6,
   "metadata": {},
   "outputs": [
    {
     "ename": "SyntaxError",
     "evalue": "EOL while scanning string literal (<ipython-input-6-4fee4bc0da46>, line 1)",
     "output_type": "error",
     "traceback": [
      "\u001b[1;36m  File \u001b[1;32m\"<ipython-input-6-4fee4bc0da46>\"\u001b[1;36m, line \u001b[1;32m1\u001b[0m\n\u001b[1;33m    print(f'Keep up the good work Ghaleb,{Students[1].title}()\")\u001b[0m\n\u001b[1;37m                                                                ^\u001b[0m\n\u001b[1;31mSyntaxError\u001b[0m\u001b[1;31m:\u001b[0m EOL while scanning string literal\n"
     ]
    }
   ],
   "source": [
    "print(f'Keep up the good work Ghaleb,{Students[1].title}()\")"
   ]
  },
  {
   "cell_type": "code",
   "execution_count": 7,
   "metadata": {},
   "outputs": [
    {
     "ename": "SyntaxError",
     "evalue": "EOL while scanning string literal (<ipython-input-7-2762919878da>, line 1)",
     "output_type": "error",
     "traceback": [
      "\u001b[1;36m  File \u001b[1;32m\"<ipython-input-7-2762919878da>\"\u001b[1;36m, line \u001b[1;32m1\u001b[0m\n\u001b[1;33m    print(f'Keep up the good work Ghaleb,{Students[1].title()}\")\u001b[0m\n\u001b[1;37m                                                                ^\u001b[0m\n\u001b[1;31mSyntaxError\u001b[0m\u001b[1;31m:\u001b[0m EOL while scanning string literal\n"
     ]
    }
   ],
   "source": [
    "print(f'Keep up the good work Ghaleb,{Students[1].title()}\")"
   ]
  },
  {
   "cell_type": "code",
   "execution_count": 8,
   "metadata": {},
   "outputs": [
    {
     "name": "stdout",
     "output_type": "stream",
     "text": [
      "Keep up the good work Ghaleb,Ghaleb\n"
     ]
    }
   ],
   "source": [
    "print(f\"Keep up the good work Ghaleb,{Students[1].title()}\")"
   ]
  },
  {
   "cell_type": "code",
   "execution_count": 9,
   "metadata": {},
   "outputs": [
    {
     "ename": "SyntaxError",
     "evalue": "EOL while scanning string literal (<ipython-input-9-79e026ad4003>, line 1)",
     "output_type": "error",
     "traceback": [
      "\u001b[1;36m  File \u001b[1;32m\"<ipython-input-9-79e026ad4003>\"\u001b[1;36m, line \u001b[1;32m1\u001b[0m\n\u001b[1;33m    print(f'Keep up the good work,{Students[1].title()}\")\u001b[0m\n\u001b[1;37m                                                         ^\u001b[0m\n\u001b[1;31mSyntaxError\u001b[0m\u001b[1;31m:\u001b[0m EOL while scanning string literal\n"
     ]
    }
   ],
   "source": [
    "print(f'Keep up the good work,{Students[1].title()}\")"
   ]
  },
  {
   "cell_type": "code",
   "execution_count": 10,
   "metadata": {},
   "outputs": [
    {
     "name": "stdout",
     "output_type": "stream",
     "text": [
      "Keep up the good work,Ghaleb\n"
     ]
    }
   ],
   "source": [
    "print(f\"Keep up the good work,{Students[1].title()}\")"
   ]
  },
  {
   "cell_type": "code",
   "execution_count": null,
   "metadata": {},
   "outputs": [],
   "source": [
    "This process is only possible for greetings single person , what if we have to greeting everyone at once "
   ]
  },
  {
   "cell_type": "code",
   "execution_count": null,
   "metadata": {},
   "outputs": [],
   "source": [
    "#here we will use the looping concenpt"
   ]
  },
  {
   "cell_type": "code",
   "execution_count": null,
   "metadata": {},
   "outputs": [],
   "source": [
    "General syntax of a 'for loop'"
   ]
  },
  {
   "cell_type": "code",
   "execution_count": 11,
   "metadata": {},
   "outputs": [
    {
     "ename": "SyntaxError",
     "evalue": "unexpected EOF while parsing (<ipython-input-11-7763912df329>, line 1)",
     "output_type": "error",
     "traceback": [
      "\u001b[1;36m  File \u001b[1;32m\"<ipython-input-11-7763912df329>\"\u001b[1;36m, line \u001b[1;32m1\u001b[0m\n\u001b[1;33m    for tempvariable in mainvariable:\u001b[0m\n\u001b[1;37m                                     ^\u001b[0m\n\u001b[1;31mSyntaxError\u001b[0m\u001b[1;31m:\u001b[0m unexpected EOF while parsing\n"
     ]
    }
   ],
   "source": [
    "for tempvariable in mainvariable:"
   ]
  },
  {
   "cell_type": "code",
   "execution_count": 12,
   "metadata": {},
   "outputs": [
    {
     "ename": "SyntaxError",
     "evalue": "unexpected EOF while parsing (<ipython-input-12-ebd965e175ef>, line 1)",
     "output_type": "error",
     "traceback": [
      "\u001b[1;36m  File \u001b[1;32m\"<ipython-input-12-ebd965e175ef>\"\u001b[1;36m, line \u001b[1;32m1\u001b[0m\n\u001b[1;33m    for tempvariable in mainvariable :\u001b[0m\n\u001b[1;37m                                      ^\u001b[0m\n\u001b[1;31mSyntaxError\u001b[0m\u001b[1;31m:\u001b[0m unexpected EOF while parsing\n"
     ]
    }
   ],
   "source": [
    "for tempvariable in mainvariable :"
   ]
  },
  {
   "cell_type": "code",
   "execution_count": 13,
   "metadata": {},
   "outputs": [
    {
     "ename": "NameError",
     "evalue": "name 'mainvariable' is not defined",
     "output_type": "error",
     "traceback": [
      "\u001b[1;31m---------------------------------------------------------------------------\u001b[0m",
      "\u001b[1;31mNameError\u001b[0m                                 Traceback (most recent call last)",
      "\u001b[1;32m<ipython-input-13-0231fa79e41b>\u001b[0m in \u001b[0;36m<module>\u001b[1;34m\u001b[0m\n\u001b[1;32m----> 1\u001b[1;33m \u001b[1;32mfor\u001b[0m \u001b[0mtempvariable\u001b[0m \u001b[1;32min\u001b[0m \u001b[0mmainvariable\u001b[0m\u001b[1;33m:\u001b[0m\u001b[1;33m\u001b[0m\u001b[1;33m\u001b[0m\u001b[0m\n\u001b[0m\u001b[0;32m      2\u001b[0m     \u001b[0mprint\u001b[0m\u001b[1;33m(\u001b[0m\u001b[0mtempvariable\u001b[0m\u001b[1;33m)\u001b[0m\u001b[1;33m\u001b[0m\u001b[1;33m\u001b[0m\u001b[0m\n\u001b[0;32m      3\u001b[0m \u001b[1;33m\u001b[0m\u001b[0m\n",
      "\u001b[1;31mNameError\u001b[0m: name 'mainvariable' is not defined"
     ]
    }
   ],
   "source": [
    "for tempvariable in mainvariable:\n",
    "    print(tempvariable)# the gap before print is called as indetation---\n",
    "    "
   ]
  },
  {
   "cell_type": "code",
   "execution_count": null,
   "metadata": {},
   "outputs": [],
   "source": [
    "Implementation :-"
   ]
  },
  {
   "cell_type": "code",
   "execution_count": 14,
   "metadata": {},
   "outputs": [
    {
     "ename": "SyntaxError",
     "evalue": "unexpected EOF while parsing (<ipython-input-14-9b3d35cb77b1>, line 1)",
     "output_type": "error",
     "traceback": [
      "\u001b[1;36m  File \u001b[1;32m\"<ipython-input-14-9b3d35cb77b1>\"\u001b[1;36m, line \u001b[1;32m1\u001b[0m\n\u001b[1;33m    for x in Students :\u001b[0m\n\u001b[1;37m                       ^\u001b[0m\n\u001b[1;31mSyntaxError\u001b[0m\u001b[1;31m:\u001b[0m unexpected EOF while parsing\n"
     ]
    }
   ],
   "source": [
    "for x in Students :"
   ]
  },
  {
   "cell_type": "code",
   "execution_count": 15,
   "metadata": {},
   "outputs": [
    {
     "ename": "SyntaxError",
     "evalue": "unexpected EOF while parsing (<ipython-input-15-6e9adb395ac5>, line 1)",
     "output_type": "error",
     "traceback": [
      "\u001b[1;36m  File \u001b[1;32m\"<ipython-input-15-6e9adb395ac5>\"\u001b[1;36m, line \u001b[1;32m1\u001b[0m\n\u001b[1;33m    for x in Students:\u001b[0m\n\u001b[1;37m                      ^\u001b[0m\n\u001b[1;31mSyntaxError\u001b[0m\u001b[1;31m:\u001b[0m unexpected EOF while parsing\n"
     ]
    }
   ],
   "source": [
    "for x in Students:"
   ]
  },
  {
   "cell_type": "code",
   "execution_count": 16,
   "metadata": {},
   "outputs": [
    {
     "name": "stdout",
     "output_type": "stream",
     "text": [
      "Keep up the good work,Vijaya\n",
      "Keep up the good work,Ghaleb\n",
      "Keep up the good work,Vimal\n",
      "Keep up the good work,Suresh\n",
      "Keep up the good work,Keerthi\n",
      "Keep up the good work,Sameer\n"
     ]
    }
   ],
   "source": [
    "for x in Students:\n",
    "    print(f\"Keep up the good work,{x.title()}\") # here x is tempvariable, we can use anything in place of x , only have to ensure the same is there in the 2nd line."
   ]
  },
  {
   "cell_type": "code",
   "execution_count": 17,
   "metadata": {},
   "outputs": [
    {
     "name": "stdout",
     "output_type": "stream",
     "text": [
      "keep up the good work,Vijaya\n",
      "keep up the good work,Ghaleb\n",
      "keep up the good work,Vimal\n",
      "keep up the good work,Suresh\n",
      "keep up the good work,Keerthi\n",
      "keep up the good work,Sameer\n"
     ]
    }
   ],
   "source": [
    "for a in Students:\n",
    "    print(f\"keep up the good work,{a.title()}\")"
   ]
  },
  {
   "cell_type": "code",
   "execution_count": null,
   "metadata": {},
   "outputs": [],
   "source": [
    "Here the indemnation or gap if we remove it will give error"
   ]
  },
  {
   "cell_type": "code",
   "execution_count": 18,
   "metadata": {},
   "outputs": [
    {
     "ename": "IndentationError",
     "evalue": "expected an indented block (<ipython-input-18-683493bc0516>, line 2)",
     "output_type": "error",
     "traceback": [
      "\u001b[1;36m  File \u001b[1;32m\"<ipython-input-18-683493bc0516>\"\u001b[1;36m, line \u001b[1;32m2\u001b[0m\n\u001b[1;33m    print(f\"keep up the good work,{a.title()}\")\u001b[0m\n\u001b[1;37m    ^\u001b[0m\n\u001b[1;31mIndentationError\u001b[0m\u001b[1;31m:\u001b[0m expected an indented block\n"
     ]
    }
   ],
   "source": [
    "for a in Students:\n",
    "print(f\"keep up the good work,{a.title()}\")"
   ]
  },
  {
   "cell_type": "code",
   "execution_count": 19,
   "metadata": {},
   "outputs": [
    {
     "name": "stdout",
     "output_type": "stream",
     "text": [
      "Vijaya\n",
      "Ghaleb\n",
      "Vimal\n",
      "Suresh\n",
      "keerthi\n",
      "Sameer\n"
     ]
    }
   ],
   "source": [
    "for a in Students:\n",
    "    print(a) # another example"
   ]
  },
  {
   "cell_type": "code",
   "execution_count": null,
   "metadata": {},
   "outputs": [],
   "source": [
    "If we want to use one more joining statement for all the students, then we can use the below coding :-"
   ]
  },
  {
   "cell_type": "code",
   "execution_count": 20,
   "metadata": {},
   "outputs": [
    {
     "name": "stdout",
     "output_type": "stream",
     "text": [
      "keep up the good work,Sameer\n",
      "I am looking forward to recieve al your practice files,Sameer\n"
     ]
    }
   ],
   "source": [
    "print(f\"keep up the good work,{x.title()}\")\n",
    "print(f\"I am looking forward to recieve al your practice files,{x.title()}\")"
   ]
  },
  {
   "cell_type": "code",
   "execution_count": 21,
   "metadata": {},
   "outputs": [
    {
     "name": "stdout",
     "output_type": "stream",
     "text": [
      "keep up the good work,Sameer\n",
      "I am looking forward to recieve al your practice files,Sameer\n"
     ]
    }
   ],
   "source": [
    "print(f\"keep up the good work,{a.title()}\")\n",
    "print(f\"I am looking forward to recieve al your practice files,{a.title()}\")"
   ]
  },
  {
   "cell_type": "code",
   "execution_count": 22,
   "metadata": {},
   "outputs": [
    {
     "ename": "SyntaxError",
     "evalue": "closing parenthesis '}' does not match opening parenthesis '(' (<ipython-input-22-7bf686c31884>, line 2)",
     "output_type": "error",
     "traceback": [
      "\u001b[1;36m  File \u001b[1;32m\"<ipython-input-22-7bf686c31884>\"\u001b[1;36m, line \u001b[1;32m2\u001b[0m\n\u001b[1;33m    print(f\"I am looking forward to recieve al your practice files,{x.title()\"})\u001b[0m\n\u001b[1;37m                                                                              ^\u001b[0m\n\u001b[1;31mSyntaxError\u001b[0m\u001b[1;31m:\u001b[0m closing parenthesis '}' does not match opening parenthesis '('\n"
     ]
    }
   ],
   "source": [
    "print(f\"keep up the good work,{x.title()}\")\n",
    "print(f\"I am looking forward to recieve al your practice files,{x.title()\"})"
   ]
  },
  {
   "cell_type": "code",
   "execution_count": 23,
   "metadata": {},
   "outputs": [
    {
     "name": "stdout",
     "output_type": "stream",
     "text": [
      "keep up the good work,Vijaya\n",
      "keep up the good work,Ghaleb\n",
      "keep up the good work,Vimal\n",
      "keep up the good work,Suresh\n",
      "keep up the good work,Keerthi\n",
      "keep up the good work,Sameer\n",
      "I am looking forward to recieve al your practice files,Sameer\n"
     ]
    }
   ],
   "source": [
    "for x in Students :\n",
    "    print(f\"keep up the good work,{x.title()}\")\n",
    "print(f\"I am looking forward to recieve al your practice files,{x.title()}\")"
   ]
  },
  {
   "cell_type": "code",
   "execution_count": 24,
   "metadata": {},
   "outputs": [
    {
     "ename": "SyntaxError",
     "evalue": "closing parenthesis '}' does not match opening parenthesis '(' (<ipython-input-24-32f7d9399bab>, line 3)",
     "output_type": "error",
     "traceback": [
      "\u001b[1;36m  File \u001b[1;32m\"<ipython-input-24-32f7d9399bab>\"\u001b[1;36m, line \u001b[1;32m3\u001b[0m\n\u001b[1;33m    print(f\"I am looking forward to recieve al your practice files,{x.title()\"})\u001b[0m\n\u001b[1;37m                                                                              ^\u001b[0m\n\u001b[1;31mSyntaxError\u001b[0m\u001b[1;31m:\u001b[0m closing parenthesis '}' does not match opening parenthesis '('\n"
     ]
    }
   ],
   "source": [
    "for x in Students:\n",
    "    print(f\"keep up the good work,{x.title()}\")\n",
    "    print(f\"I am looking forward to recieve al your practice files,{x.title()\"})"
   ]
  },
  {
   "cell_type": "code",
   "execution_count": 25,
   "metadata": {},
   "outputs": [
    {
     "name": "stdout",
     "output_type": "stream",
     "text": [
      "keep up the good work,Vijaya\n",
      "I am looking forward to recieve al your practice files,Vijaya\n",
      "keep up the good work,Ghaleb\n",
      "I am looking forward to recieve al your practice files,Ghaleb\n",
      "keep up the good work,Vimal\n",
      "I am looking forward to recieve al your practice files,Vimal\n",
      "keep up the good work,Suresh\n",
      "I am looking forward to recieve al your practice files,Suresh\n",
      "keep up the good work,Keerthi\n",
      "I am looking forward to recieve al your practice files,Keerthi\n",
      "keep up the good work,Sameer\n",
      "I am looking forward to recieve al your practice files,Sameer\n"
     ]
    }
   ],
   "source": [
    "for x in Students:\n",
    "    print(f\"keep up the good work,{x.title()}\")\n",
    "    print(f\"I am looking forward to recieve al your practice files,{x.title()}\")\n",
    "    "
   ]
  },
  {
   "cell_type": "code",
   "execution_count": null,
   "metadata": {},
   "outputs": [],
   "source": [
    "# to enhance further "
   ]
  },
  {
   "cell_type": "code",
   "execution_count": 26,
   "metadata": {},
   "outputs": [
    {
     "name": "stdout",
     "output_type": "stream",
     "text": [
      "keep up the good work,Vijaya\n",
      "I am looking forward to recieve al your practice files,Vijaya.\n",
      "\n",
      "keep up the good work,Ghaleb\n",
      "I am looking forward to recieve al your practice files,Ghaleb.\n",
      "\n",
      "keep up the good work,Vimal\n",
      "I am looking forward to recieve al your practice files,Vimal.\n",
      "\n",
      "keep up the good work,Suresh\n",
      "I am looking forward to recieve al your practice files,Suresh.\n",
      "\n",
      "keep up the good work,Keerthi\n",
      "I am looking forward to recieve al your practice files,Keerthi.\n",
      "\n",
      "keep up the good work,Sameer\n",
      "I am looking forward to recieve al your practice files,Sameer.\n",
      "\n"
     ]
    }
   ],
   "source": [
    "for x in Students:\n",
    "    print(f\"keep up the good work,{x.title()}\")\n",
    "    print(f\"I am looking forward to recieve al your practice files,{x.title()}.\\n\")"
   ]
  },
  {
   "cell_type": "code",
   "execution_count": null,
   "metadata": {},
   "outputs": [],
   "source": [
    "#In the loop :- With space or indentation is called as In the loop\n",
    "# Outof loop :- Without space or indentation is called out of loop"
   ]
  },
  {
   "cell_type": "code",
   "execution_count": null,
   "metadata": {},
   "outputs": [],
   "source": [
    "# Requirement :- I want to convey thanks to all forjoining the class -----it has to be general greetings"
   ]
  },
  {
   "cell_type": "code",
   "execution_count": 27,
   "metadata": {},
   "outputs": [
    {
     "name": "stdout",
     "output_type": "stream",
     "text": [
      "keep up the good work,Vijaya\n",
      "I am looking forward to recieve al your practice files,Vijaya.\n",
      "\n",
      "Thanks to all for joining the session---\n",
      "keep up the good work,Ghaleb\n",
      "I am looking forward to recieve al your practice files,Ghaleb.\n",
      "\n",
      "Thanks to all for joining the session---\n",
      "keep up the good work,Vimal\n",
      "I am looking forward to recieve al your practice files,Vimal.\n",
      "\n",
      "Thanks to all for joining the session---\n",
      "keep up the good work,Suresh\n",
      "I am looking forward to recieve al your practice files,Suresh.\n",
      "\n",
      "Thanks to all for joining the session---\n",
      "keep up the good work,Keerthi\n",
      "I am looking forward to recieve al your practice files,Keerthi.\n",
      "\n",
      "Thanks to all for joining the session---\n",
      "keep up the good work,Sameer\n",
      "I am looking forward to recieve al your practice files,Sameer.\n",
      "\n",
      "Thanks to all for joining the session---\n"
     ]
    }
   ],
   "source": [
    "for x in Students:\n",
    "    print(f\"keep up the good work,{x.title()}\")\n",
    "    print(f\"I am looking forward to recieve al your practice files,{x.title()}.\\n\")\n",
    "    print(\"Thanks to all for joining the session---\")"
   ]
  },
  {
   "cell_type": "code",
   "execution_count": 28,
   "metadata": {},
   "outputs": [
    {
     "name": "stdout",
     "output_type": "stream",
     "text": [
      "keep up the good work,Vijaya\n",
      "I am looking forward to recieve al your practice files,Vijaya.\n",
      "\n",
      "Thanks to all for joining the session....\n",
      "keep up the good work,Ghaleb\n",
      "I am looking forward to recieve al your practice files,Ghaleb.\n",
      "\n",
      "Thanks to all for joining the session....\n",
      "keep up the good work,Vimal\n",
      "I am looking forward to recieve al your practice files,Vimal.\n",
      "\n",
      "Thanks to all for joining the session....\n",
      "keep up the good work,Suresh\n",
      "I am looking forward to recieve al your practice files,Suresh.\n",
      "\n",
      "Thanks to all for joining the session....\n",
      "keep up the good work,Keerthi\n",
      "I am looking forward to recieve al your practice files,Keerthi.\n",
      "\n",
      "Thanks to all for joining the session....\n",
      "keep up the good work,Sameer\n",
      "I am looking forward to recieve al your practice files,Sameer.\n",
      "\n",
      "Thanks to all for joining the session....\n"
     ]
    }
   ],
   "source": [
    "for x in Students:\n",
    "    print(f\"keep up the good work,{x.title()}\")\n",
    "    print(f\"I am looking forward to recieve al your practice files,{x.title()}.\\n\")\n",
    "    print(\"Thanks to all for joining the session....\")"
   ]
  },
  {
   "cell_type": "code",
   "execution_count": 29,
   "metadata": {},
   "outputs": [
    {
     "name": "stdout",
     "output_type": "stream",
     "text": [
      "keep up the good work,Vijaya\n",
      "I am looking forward to recieve al your practice files,Vijaya.\n",
      "\n",
      "keep up the good work,Ghaleb\n",
      "I am looking forward to recieve al your practice files,Ghaleb.\n",
      "\n",
      "keep up the good work,Vimal\n",
      "I am looking forward to recieve al your practice files,Vimal.\n",
      "\n",
      "keep up the good work,Suresh\n",
      "I am looking forward to recieve al your practice files,Suresh.\n",
      "\n",
      "keep up the good work,Keerthi\n",
      "I am looking forward to recieve al your practice files,Keerthi.\n",
      "\n",
      "keep up the good work,Sameer\n",
      "I am looking forward to recieve al your practice files,Sameer.\n",
      "\n",
      "Thanks to all for joining the session....\n"
     ]
    }
   ],
   "source": [
    "for x in Students:\n",
    "    print(f\"keep up the good work,{x.title()}\")\n",
    "    print(f\"I am looking forward to recieve al your practice files,{x.title()}.\\n\")\n",
    "    \n",
    "print(\"Thanks to all for joining the session....\")"
   ]
  },
  {
   "cell_type": "code",
   "execution_count": null,
   "metadata": {},
   "outputs": [],
   "source": [
    "To get the general message we only need to remove the indentation on the third command"
   ]
  },
  {
   "cell_type": "code",
   "execution_count": null,
   "metadata": {},
   "outputs": [],
   "source": []
  },
  {
   "cell_type": "code",
   "execution_count": null,
   "metadata": {},
   "outputs": [],
   "source": [
    "Organising the list"
   ]
  },
  {
   "cell_type": "code",
   "execution_count": 30,
   "metadata": {},
   "outputs": [],
   "source": [
    "cars=['Suzuki','BMW','KIA','Benz','Audi']"
   ]
  },
  {
   "cell_type": "code",
   "execution_count": null,
   "metadata": {},
   "outputs": [],
   "source": [
    "#Requirement :- I want to know the total ount of cars "
   ]
  },
  {
   "cell_type": "code",
   "execution_count": 31,
   "metadata": {},
   "outputs": [
    {
     "data": {
      "text/plain": [
       "5"
      ]
     },
     "execution_count": 31,
     "metadata": {},
     "output_type": "execute_result"
    }
   ],
   "source": [
    "len(cars)"
   ]
  },
  {
   "cell_type": "code",
   "execution_count": null,
   "metadata": {},
   "outputs": [],
   "source": []
  },
  {
   "cell_type": "code",
   "execution_count": null,
   "metadata": {},
   "outputs": [],
   "source": []
  },
  {
   "cell_type": "code",
   "execution_count": null,
   "metadata": {},
   "outputs": [],
   "source": []
  },
  {
   "cell_type": "code",
   "execution_count": null,
   "metadata": {},
   "outputs": [],
   "source": []
  }
 ],
 "metadata": {
  "kernelspec": {
   "display_name": "Python 3",
   "language": "python",
   "name": "python3"
  },
  "language_info": {
   "codemirror_mode": {
    "name": "ipython",
    "version": 3
   },
   "file_extension": ".py",
   "mimetype": "text/x-python",
   "name": "python",
   "nbconvert_exporter": "python",
   "pygments_lexer": "ipython3",
   "version": "3.8.5"
  }
 },
 "nbformat": 4,
 "nbformat_minor": 4
}
